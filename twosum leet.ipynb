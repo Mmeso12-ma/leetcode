{
 "cells": [
  {
   "cell_type": "code",
   "execution_count": null,
   "id": "f8493f1d",
   "metadata": {},
   "outputs": [],
   "source": [
    "\"\"\"Given an array of integers nums and an integer target, return indices of the two numbers such that they add up to target.\"\"\"\n",
    "\"\"\"This is my first attempt at solving this problem but it is not efficient enough.\"\"\"\n",
    "class Solution(object):\n",
    "    def twoSum(self, nums, target):\n",
    "        \"\"\"\n",
    "        :type nums: List[int]\n",
    "        :type target: int\n",
    "        :rtype: List[int]\n",
    "        \"\"\"\n",
    "        i=0# start at the first index\n",
    "        while i<len(nums):#looping through each number in the list\n",
    "            x=nums[i]\n",
    "            y=target-x\n",
    "            if y in nums[i+1:]:#checking only numbers after i\n",
    "                j=nums.index(y,i+1)\n",
    "                return\n",
    "            i +=1\n"
   ]
  },
  {
   "cell_type": "code",
   "execution_count": null,
   "id": "a4a33d21",
   "metadata": {},
   "outputs": [],
   "source": [
    "#This is a more efficient solution\n",
    "class Solution(object):\n",
    "    def twoSum(self, nums, target):\n",
    "        \"\"\"\n",
    "        :type nums: List[int]\n",
    "        :type target: int\n",
    "        :rtype: List[int]\n",
    "        \"\"\"\n",
    "        seen = {}\n",
    "        for i, num in enumerate(nums):\n",
    "            y = target - num\n",
    "            if y in seen:\n",
    "                return[seen[y], i]\n",
    "            seen[num] = i"
   ]
  }
 ],
 "metadata": {
  "kernelspec": {
   "display_name": "Python 3",
   "language": "python",
   "name": "python3"
  },
  "language_info": {
   "name": "python",
   "version": "3.13.3"
  }
 },
 "nbformat": 4,
 "nbformat_minor": 5
}
