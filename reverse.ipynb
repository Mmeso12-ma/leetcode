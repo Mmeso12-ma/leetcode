{
 "cells": [
  {
   "cell_type": "code",
   "execution_count": 1,
   "id": "1742d68a",
   "metadata": {},
   "outputs": [],
   "source": [
    "\"\"\"LeetCode Problem: Palindrome\"\"\"\n",
    "\"\"\"A palindrome is a letter or number that remains same when reversed\"\"\"\n",
    "\"\"\"The code below checks if a given input is a palindrome or not\"\"\"\n",
    "def Palindrome(s)->bool:\n",
    "    s = str(s) #convert input to string\n",
    "    return s==s[::-1]#check if string is equal to its reverse\n",
    "    \n"
   ]
  },
  {
   "cell_type": "code",
   "execution_count": 2,
   "id": "b517b347",
   "metadata": {},
   "outputs": [
    {
     "name": "stdout",
     "output_type": "stream",
     "text": [
      "True\n",
      "False\n",
      "False\n"
     ]
    }
   ],
   "source": [
    "print(Palindrome(121))  \n",
    "print(Palindrome(-121))\n",
    "print(Palindrome(\"Mmesoma\"))"
   ]
  },
  {
   "cell_type": "code",
   "execution_count": null,
   "id": "6d54a196",
   "metadata": {},
   "outputs": [],
   "source": [
    "\"\"\"The code below reverses a given input and returns it\"\"\"\n",
    "def Palind(s):\n",
    "    s = str(s)\n",
    "    x = s[::-1]\n",
    "    return x"
   ]
  },
  {
   "cell_type": "code",
   "execution_count": 4,
   "id": "d034b112",
   "metadata": {},
   "outputs": [
    {
     "name": "stdout",
     "output_type": "stream",
     "text": [
      "121\n",
      "amosemM\n"
     ]
    }
   ],
   "source": [
    "print (Palind(121))\n",
    "print (Palind(\"Mmesoma\"))"
   ]
  },
  {
   "cell_type": "code",
   "execution_count": 5,
   "id": "e968ccf1",
   "metadata": {},
   "outputs": [],
   "source": [
    "\"\"\"LeetCode Problem: Reverse Integer\"\"\"\n",
    "\"\"\"The code below takes an integer and returns it in a reversed form\"\"\"\n",
    "class Solution(object):\n",
    "    def reverse(self, x):\n",
    "        \"\"\"\n",
    "        :type x: int\n",
    "        :rtype: int\n",
    "        \"\"\"\n",
    "        \n",
    "        ab = abs(x) # gives the absolute value of x\n",
    "        y = str(ab) # changes the integer to string format\n",
    "        z = y[::-1] # gives the reversed number in a string format\n",
    "        i = int(z) # changes the reversed string to integer\n",
    "        if x < 0 : # for negative values\n",
    "            sign = -1 \n",
    "        else: # for positive values\n",
    "                sign = 1\n",
    "        rev = i*sign # the reversed number multiplied by the sign \n",
    "        if rev <= (-2**31) or rev >= ((2**31)-1): # the reversed number cannot be less than 2**31 and it cannot be greater than (2**31) -1\n",
    "            return 0\n",
    "        return rev # output the reversed number\n",
    "        \n"
   ]
  },
  {
   "cell_type": "code",
   "execution_count": 6,
   "id": "6b269e82",
   "metadata": {},
   "outputs": [
    {
     "name": "stdout",
     "output_type": "stream",
     "text": [
      "6543\n"
     ]
    }
   ],
   "source": [
    "#Example:\n",
    "sol = Solution()\n",
    "print (sol.reverse(3456))"
   ]
  }
 ],
 "metadata": {
  "kernelspec": {
   "display_name": ".venv (3.13.3)",
   "language": "python",
   "name": "python3"
  },
  "language_info": {
   "codemirror_mode": {
    "name": "ipython",
    "version": 3
   },
   "file_extension": ".py",
   "mimetype": "text/x-python",
   "name": "python",
   "nbconvert_exporter": "python",
   "pygments_lexer": "ipython3",
   "version": "3.13.3"
  }
 },
 "nbformat": 4,
 "nbformat_minor": 5
}
