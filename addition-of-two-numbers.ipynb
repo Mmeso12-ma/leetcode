{
 "cells": [
  {
   "cell_type": "code",
   "execution_count": null,
   "id": "aab8c42d",
   "metadata": {},
   "outputs": [],
   "source": [
    "\"\"\"You are given two non-empty linked lists representing two non-negative integers. The digits are stored in reverse order, and each of their nodes contains a single digit. Add the two numbers and return the sum as a linked list.\"\"\"\n",
    "\"\"\"Add the two numbers and return the sum as a linked list.\"\"\"\n",
    "# Definition for singly-linked list.\n",
    "# class ListNode(object):\n",
    "#     def __init__(self, val=0, next=None):\n",
    "#         self.val = val\n",
    "#         self.next = next\n",
    "class Solution(object):\n",
    "    def addTwoNumbers(self, l1, l2):\n",
    "        \"\"\"\n",
    "        :type l1: Optional[ListNode]\n",
    "        :type l2: Optional[ListNode]\n",
    "        :rtype: Optional[ListNode]\n",
    "        \"\"\"\n",
    "        node=ListNode()\n",
    "        j=node\n",
    "        i=0\n",
    "        while l1 or l2 or i:\n",
    "            x=l1.val if l1 else 0\n",
    "            y=l2.val if l2 else 0\n",
    "            total= x+y+i\n",
    "            i=total //10\n",
    "            j.next = ListNode(total % 10)\n",
    "            j = j.next\n",
    "            if l1:\n",
    "                l1=l1.next\n",
    "            if l2:\n",
    "                l2=l2.next\n",
    "        return node.next"
   ]
  }
 ],
 "metadata": {
  "language_info": {
   "name": "python"
  }
 },
 "nbformat": 4,
 "nbformat_minor": 5
}
