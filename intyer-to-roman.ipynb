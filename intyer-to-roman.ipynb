{
 "cells": [
  {
   "cell_type": "code",
   "execution_count": null,
   "id": "a1de36df",
   "metadata": {},
   "outputs": [],
   "source": [
    "\"\"\"Integer to Roman\"\"\"\n",
    "class Solution(object):\n",
    "    def intToRoman(self, num):\n",
    "        \"\"\"\n",
    "        :type num: int\n",
    "        :rtype: str\n",
    "        \"\"\"\n",
    "        roman = \"\"\n",
    "        x = [1000,900,500,400,100,90,50,40,10,9,5,4,1]\n",
    "        y = [\"M\",\"CM\",\"D\",\"CD\",\"C\",\"XC\",\"L\",\"XL\",\"X\",\"IX\",\"V\",\"IV\",\"I\"] # FOR MAPPING\n",
    "        \n",
    "        for i in range (len(x)):\n",
    "            while num >= x[i]:\n",
    "                num -= x[i]\n",
    "                roman += y[i]\n",
    "        \n",
    "        return roman        \n"
   ]
  }
 ],
 "metadata": {
  "language_info": {
   "name": "python"
  }
 },
 "nbformat": 4,
 "nbformat_minor": 5
}
