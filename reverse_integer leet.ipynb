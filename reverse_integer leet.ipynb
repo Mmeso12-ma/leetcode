{
 "cells": [
  {
   "cell_type": "code",
   "execution_count": null,
   "id": "ec830049",
   "metadata": {},
   "outputs": [],
   "source": [
    "\"\"\"Given a signed 32-bit integer x, return x with its digits reversed. If reversing x causes the value to go outside the signed 32-bit integer range [-231, 231 - 1], then return 0.\"\"\"\n",
    "\"\"\"This is my first attempt at solving this problem and it is efficient enough.\"\"\"\n",
    "class Solution(object):\n",
    "    def reverse(self, x):\n",
    "        \"\"\"\n",
    "        :type x: int\n",
    "        :rtype: int\n",
    "        \"\"\"\n",
    "        sign = -1 if x<0 else 1 #get the sign\n",
    "        x= abs(x)# get the absolute value of x\n",
    "        rev = int(str(x)[::-1])#reverses the digits\n",
    "        rev = sign * rev # reapply the sign\n",
    "        if rev< -2**31 or rev > 2**31 -1 :\n",
    "            return 0\n",
    "        return rev"
   ]
  }
 ],
 "metadata": {
  "language_info": {
   "name": "python"
  }
 },
 "nbformat": 4,
 "nbformat_minor": 5
}
