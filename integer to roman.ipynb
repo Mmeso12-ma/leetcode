{
 "cells": [
  {
   "cell_type": "code",
   "execution_count": null,
   "id": "2b2bf0a4",
   "metadata": {},
   "outputs": [],
   "source": [
    "\"\"\"LeetCode Problem 12: Integer to Roman\n",
    "    Given an integer, convert it to a roman numeral.\n",
    "    Input is guaranteed to be within the range from 1 to 3999.\"\"\"\n",
    "def RI(num: int)-> str:\n",
    "    thousands = [\"\", \"M\", \"MM\", \"MMM\", \"MMMM\", \"MMMMM\", \"MMMMMM\",]\n",
    "    hundreds = [\"\", \"C\", \"CC\", \"CCC\", \"CD\", \"D\", \"DC\", \"DCC\", \"DCCC\", \"CM\"]\n",
    "    tens = [\"\", \"X\", \"XX\", \"XXX\", \"XL\", \"L\", \"LX\", \"LXX\", \"LXXX\", \"XC\"]\n",
    "    units = [\"\", \"I\", \"II\", \"III\", \"IV\", \"V\", \"VI\", \"VII\", \"VIII\", \"IX\"]\n",
    "    return (\n",
    "        thousands[num // 1000] # this divides the number by 1000 to get the thousands place and uses it as an index to get the corresponding Roman numeral from the thousands list\n",
    "          + hundreds[(num % 1000) // 100] # this gets the hundreds place by taking the remainder of the number when divided by 1000 and then dividing that result by 100 to get the hundreds place, and uses it as an index to get the corresponding Roman numeral from the hundreds list\n",
    "          + tens[(num % 100) // 10] # this gets the tens place by taking the remainder of the number when divided by 100 and then dividing that result by 10 to get the tens place, and uses it as an index to get the corresponding Roman numeral from the tens list\n",
    "          + units[num % 10] # this gets the units place by taking the remainder of the number when divided by 10 and uses it as an index to get the corresponding Roman numeral from the units list\n",
    "          )\n"
   ]
  },
  {
   "cell_type": "code",
   "execution_count": 8,
   "id": "9c6f61ca",
   "metadata": {},
   "outputs": [
    {
     "name": "stdout",
     "output_type": "stream",
     "text": [
      "LX\n"
     ]
    },
    {
     "data": {
      "text/plain": [
       "'\\n1546//1000 = 1 -> \"M\"\\n1546%1000 = 546 -> 546//100 = 5 -> \"D\\n546%100 = 46 -> 46//10 = 4 -> \"XL\"\\n46%10 = 6 -> \"VI\"\\nSo the final result is \"MDXLVI\"\\n'"
      ]
     },
     "execution_count": 8,
     "metadata": {},
     "output_type": "execute_result"
    }
   ],
   "source": [
    "print(RI(60))  \n",
    "\"\"\"\n",
    "1546//1000 = 1 -> \"M\"\n",
    "1546%1000 = 546 -> 546//100 = 5 -> \"D\n",
    "546%100 = 46 -> 46//10 = 4 -> \"XL\"\n",
    "46%10 = 6 -> \"VI\"\n",
    "So the final result is \"MDXLVI\"\n",
    "\"\"\""
   ]
  },
  {
   "cell_type": "code",
   "execution_count": 2,
   "id": "27583c0f",
   "metadata": {},
   "outputs": [],
   "source": [
    "\"\"\"LeetCode: Valid Parentheses\"\"\"\n",
    "\"\"\"This fuction uses a stack data structure to keep track of opening parentheses. When it encounters a closing parenthesis, it checks if it matches the most recent opening parenthesis. If all parentheses are matched correctly, the stack will be empty at the end, indicating that the input string is valid.\"\"\"\n",
    "\"\"\"Stack is a data structure that follows the Last In First Out (LIFO) principle. It means that the last element added to the stack will be the first one to be removed. You can think of it like a stack of plates: you add plates to the top of the stack and remove plates from the top as well.\"\"\"\n",
    "\"\"\"push -> add an element to the top of the stack\n",
    "   pop -> remove the top element from the stack\n",
    "   peek -> view the top element without removing it\n",
    "   isEmpty -> check if the stack is empty\"\"\"\n",
    "\"\"\"Stacks are used to track history, match pairs eg. valid parentheses, process nested structures\"\"\"\n",
    "def VP(s: str) -> bool:\n",
    "    stack=[]                                                                                 \n",
    "    for char in s:\n",
    "            if char == '(' or char == '{' or char =='[': # if the character is an opening parenthesis, push it onto the stack\n",
    "                stack.append(char)\n",
    "            else:\n",
    "                if not stack:\n",
    "                    return False # if the stack is empty and we encounter a closing parenthesis, return False\n",
    "                top = stack.pop() # pop the top element from the stack\n",
    "                if char == \")\" and top != \"(\":\n",
    "                    return False # if the closing parenthesis does not match the opening parenthesis, return False\n",
    "                if char == \"]\" and top != \"[\":\n",
    "                    return False\n",
    "                if char == \"}\" and top !=\"{\":\n",
    "                    return False\n",
    "    return not stack\n",
    "    "
   ]
  },
  {
   "cell_type": "code",
   "execution_count": 3,
   "id": "2f4deee5",
   "metadata": {},
   "outputs": [
    {
     "ename": "KeyboardInterrupt",
     "evalue": "",
     "output_type": "error",
     "traceback": [
      "\u001b[31m---------------------------------------------------------------------------\u001b[39m",
      "\u001b[31mKeyboardInterrupt\u001b[39m                         Traceback (most recent call last)",
      "\u001b[36mCell\u001b[39m\u001b[36m \u001b[39m\u001b[32mIn[3]\u001b[39m\u001b[32m, line 1\u001b[39m\n\u001b[32m----> \u001b[39m\u001b[32m1\u001b[39m \u001b[38;5;28mprint\u001b[39m (\u001b[43mVP\u001b[49m\u001b[43m(\u001b[49m\u001b[33;43m\"\u001b[39;49m\u001b[33;43m{\u001b[39;49m\u001b[33;43m([])\u001b[39;49m\u001b[33;43m\"\u001b[39;49m\u001b[43m)\u001b[49m) \n",
      "\u001b[36mCell\u001b[39m\u001b[36m \u001b[39m\u001b[32mIn[2]\u001b[39m\u001b[32m, line 10\u001b[39m, in \u001b[36mVP\u001b[39m\u001b[34m(s)\u001b[39m\n\u001b[32m      9\u001b[39m \u001b[38;5;28;01mdef\u001b[39;00m\u001b[38;5;250m \u001b[39m\u001b[34mVP\u001b[39m(s: \u001b[38;5;28mstr\u001b[39m) -> \u001b[38;5;28mbool\u001b[39m:\n\u001b[32m---> \u001b[39m\u001b[32m10\u001b[39m     stack=[]                                                                                 \n\u001b[32m     11\u001b[39m     \u001b[38;5;28;01mfor\u001b[39;00m char \u001b[38;5;129;01min\u001b[39;00m s:\n\u001b[32m     12\u001b[39m             \u001b[38;5;28;01mif\u001b[39;00m char == \u001b[33m'\u001b[39m\u001b[33m(\u001b[39m\u001b[33m'\u001b[39m \u001b[38;5;129;01mor\u001b[39;00m char == \u001b[33m'\u001b[39m\u001b[33m{\u001b[39m\u001b[33m'\u001b[39m \u001b[38;5;129;01mor\u001b[39;00m char ==\u001b[33m'\u001b[39m\u001b[33m[\u001b[39m\u001b[33m'\u001b[39m: \u001b[38;5;66;03m# if the character is an opening parenthesis, push it onto the stack\u001b[39;00m\n",
      "\u001b[36mFile \u001b[39m\u001b[32m<stringsource>:69\u001b[39m, in \u001b[36mcfunc.to_py.__Pyx_CFunc_b0409f__29_pydevd_sys_monitoring_cython_object__lParen__etc_to_py_4code_4line.wrap\u001b[39m\u001b[34m()\u001b[39m\n",
      "\u001b[36mFile \u001b[39m\u001b[32m_pydevd_sys_monitoring\\\\_pydevd_sys_monitoring_cython.pyx:1481\u001b[39m, in \u001b[36m_pydevd_sys_monitoring_cython._line_event\u001b[39m\u001b[34m()\u001b[39m\n",
      "\u001b[36mFile \u001b[39m\u001b[32m_pydevd_sys_monitoring\\\\_pydevd_sys_monitoring_cython.pyx:1523\u001b[39m, in \u001b[36m_pydevd_sys_monitoring_cython._internal_line_event\u001b[39m\u001b[34m()\u001b[39m\n",
      "\u001b[36mFile \u001b[39m\u001b[32m_pydevd_sys_monitoring\\\\_pydevd_sys_monitoring_cython.pyx:1324\u001b[39m, in \u001b[36m_pydevd_sys_monitoring_cython._stop_on_breakpoint\u001b[39m\u001b[34m()\u001b[39m\n",
      "\u001b[36mFile \u001b[39m\u001b[32m_pydevd_sys_monitoring\\\\_pydevd_sys_monitoring_cython.pyx:1961\u001b[39m, in \u001b[36m_pydevd_sys_monitoring_cython._do_wait_suspend\u001b[39m\u001b[34m()\u001b[39m\n",
      "\u001b[36mFile \u001b[39m\u001b[32m~/myenv/.venv/lib/python3.13/site-packages/debugpy/_vendored/pydevd/pydevd.py:2188\u001b[39m, in \u001b[36mPyDB.do_wait_suspend\u001b[39m\u001b[34m(self, thread, frame, event, arg, exception_type)\u001b[39m\n\u001b[32m   2185\u001b[39m             from_this_thread.append(frame_custom_thread_id)\n\u001b[32m   2187\u001b[39m     \u001b[38;5;28;01mwith\u001b[39;00m \u001b[38;5;28mself\u001b[39m._threads_suspended_single_notification.notify_thread_suspended(thread_id, thread, stop_reason):\n\u001b[32m-> \u001b[39m\u001b[32m2188\u001b[39m         keep_suspended = \u001b[38;5;28;43mself\u001b[39;49m\u001b[43m.\u001b[49m\u001b[43m_do_wait_suspend\u001b[49m\u001b[43m(\u001b[49m\u001b[43mthread\u001b[49m\u001b[43m,\u001b[49m\u001b[43m \u001b[49m\u001b[43mframe\u001b[49m\u001b[43m,\u001b[49m\u001b[43m \u001b[49m\u001b[43mevent\u001b[49m\u001b[43m,\u001b[49m\u001b[43m \u001b[49m\u001b[43marg\u001b[49m\u001b[43m,\u001b[49m\u001b[43m \u001b[49m\u001b[43mtrace_suspend_type\u001b[49m\u001b[43m,\u001b[49m\u001b[43m \u001b[49m\u001b[43mfrom_this_thread\u001b[49m\u001b[43m,\u001b[49m\u001b[43m \u001b[49m\u001b[43mframes_tracker\u001b[49m\u001b[43m)\u001b[49m\n\u001b[32m   2190\u001b[39m frames_list = \u001b[38;5;28;01mNone\u001b[39;00m\n\u001b[32m   2192\u001b[39m \u001b[38;5;28;01mif\u001b[39;00m keep_suspended:\n\u001b[32m   2193\u001b[39m     \u001b[38;5;66;03m# This means that we should pause again after a set next statement.\u001b[39;00m\n",
      "\u001b[36mFile \u001b[39m\u001b[32m~/myenv/.venv/lib/python3.13/site-packages/debugpy/_vendored/pydevd/pydevd.py:2257\u001b[39m, in \u001b[36mPyDB._do_wait_suspend\u001b[39m\u001b[34m(self, thread, frame, event, arg, trace_suspend_type, from_this_thread, frames_tracker)\u001b[39m\n\u001b[32m   2254\u001b[39m                 queue.put(internal_cmd)\n\u001b[32m   2255\u001b[39m                 wait_timeout = TIMEOUT_FAST\n\u001b[32m-> \u001b[39m\u001b[32m2257\u001b[39m         \u001b[43mnotify_event\u001b[49m\u001b[43m.\u001b[49m\u001b[43mwait\u001b[49m\u001b[43m(\u001b[49m\u001b[43mwait_timeout\u001b[49m\u001b[43m)\u001b[49m\n\u001b[32m   2258\u001b[39m         notify_event.clear()\n\u001b[32m   2260\u001b[39m \u001b[38;5;28;01mfinally\u001b[39;00m:\n",
      "\u001b[36mFile \u001b[39m\u001b[32m/usr/lib/python3.13/threading.py:659\u001b[39m, in \u001b[36mEvent.wait\u001b[39m\u001b[34m(self, timeout)\u001b[39m\n\u001b[32m    657\u001b[39m signaled = \u001b[38;5;28mself\u001b[39m._flag\n\u001b[32m    658\u001b[39m \u001b[38;5;28;01mif\u001b[39;00m \u001b[38;5;129;01mnot\u001b[39;00m signaled:\n\u001b[32m--> \u001b[39m\u001b[32m659\u001b[39m     signaled = \u001b[38;5;28;43mself\u001b[39;49m\u001b[43m.\u001b[49m\u001b[43m_cond\u001b[49m\u001b[43m.\u001b[49m\u001b[43mwait\u001b[49m\u001b[43m(\u001b[49m\u001b[43mtimeout\u001b[49m\u001b[43m)\u001b[49m\n\u001b[32m    660\u001b[39m \u001b[38;5;28;01mreturn\u001b[39;00m signaled\n",
      "\u001b[36mFile \u001b[39m\u001b[32m/usr/lib/python3.13/threading.py:363\u001b[39m, in \u001b[36mCondition.wait\u001b[39m\u001b[34m(self, timeout)\u001b[39m\n\u001b[32m    361\u001b[39m \u001b[38;5;28;01melse\u001b[39;00m:\n\u001b[32m    362\u001b[39m     \u001b[38;5;28;01mif\u001b[39;00m timeout > \u001b[32m0\u001b[39m:\n\u001b[32m--> \u001b[39m\u001b[32m363\u001b[39m         gotit = \u001b[43mwaiter\u001b[49m\u001b[43m.\u001b[49m\u001b[43macquire\u001b[49m\u001b[43m(\u001b[49m\u001b[38;5;28;43;01mTrue\u001b[39;49;00m\u001b[43m,\u001b[49m\u001b[43m \u001b[49m\u001b[43mtimeout\u001b[49m\u001b[43m)\u001b[49m\n\u001b[32m    364\u001b[39m     \u001b[38;5;28;01melse\u001b[39;00m:\n\u001b[32m    365\u001b[39m         gotit = waiter.acquire(\u001b[38;5;28;01mFalse\u001b[39;00m)\n",
      "\u001b[31mKeyboardInterrupt\u001b[39m: "
     ]
    }
   ],
   "source": [
    "print (VP(\"{([])\")) "
   ]
  },
  {
   "cell_type": "code",
   "execution_count": null,
   "id": "0ad7c2a8",
   "metadata": {},
   "outputs": [],
   "source": [
    "# Definition for singly-linked list.\n",
    "\n",
    "class ListNode:\n",
    "  def __init__(self, val=0, next=None):\n",
    "      self.val = val\n",
    "      self.next = next\n",
    "      \n",
    "class Solution:\n",
    "    def addTwoNumbers(self, l1, l2):\n",
    "        \"\"\"\n",
    "        :type l1: Optional[ListNode]\n",
    "        :type l2: Optional[ListNode]\n",
    "        :rtype: Optional[ListNode]\n",
    "        \"\"\"\n",
    "        dummy = ListNode(0)\n",
    "        j = dummy\n",
    "        i=0 # for thr carry in normal additions\n",
    "        val = 0\n",
    "        while l1 or l2 or i: # loops through l1, l2 and i till they are all empty\n",
    "            val1 = l1.val if l1 else 0\n",
    "            val2 = l2.val if l2 else 0\n",
    "            total= val1+val2+i\n",
    "            i=total //10 # gets the quotient\n",
    "            digit= total %10 # gets the remainder\n",
    "            j.next = ListNode(digit)\n",
    "            j = j.next\n",
    "            l1 = l1.next if l1 else None # to the next value in the list\n",
    "            l2 = l2.next if l2 else None\n",
    "        return dummy.next\n",
    "def build_linked_list(nums): # changes the list to  a linked list\n",
    "    dummy = ListNode(0)\n",
    "    j= dummy\n",
    "    for n in nums:\n",
    "        j.next = ListNode(n)\n",
    "        j = j.next\n",
    "    return dummy.next\n",
    "def print_linked_list(node): # prints the list in a normal python format\n",
    "    vals=[]\n",
    "    while node:\n",
    "        vals.append(node.val)\n",
    "        node=node.next\n",
    "    print(vals)"
   ]
  },
  {
   "cell_type": "code",
   "execution_count": 126,
   "id": "dc3cba01",
   "metadata": {},
   "outputs": [
    {
     "name": "stdout",
     "output_type": "stream",
     "text": [
      "[7, 0, 8]\n"
     ]
    },
    {
     "data": {
      "text/plain": [
       "'\\n2+5 = 7, i=0, digit=7\\n4+6 = 10,i=1, digit=0\\n3+4+i=3+4+1=8 , digit=8, i= 0\\n'"
      ]
     },
     "execution_count": 126,
     "metadata": {},
     "output_type": "execute_result"
    }
   ],
   "source": [
    "solution = Solution()\n",
    "l1 = build_linked_list([2,4,3])\n",
    "l2 = build_linked_list([5,6,4])\n",
    "result = solution.addTwoNumbers(l1, l2)\n",
    "print_linked_list(result)\n",
    "\"\"\"\n",
    "2+5 = 7, i=0, digit=7\n",
    "4+6 = 10,i=1, digit=0\n",
    "3+4+i=3+4+1=8 , digit=8, i= 0\n",
    "\"\"\""
   ]
  },
  {
   "cell_type": "code",
   "execution_count": null,
   "id": "6af23bde",
   "metadata": {},
   "outputs": [],
   "source": [
    "class Solution(object):\n",
    "    def searchInsert(self, nums, target):\n",
    "        \"\"\"\n",
    "        :type nums: List[int]\n",
    "        :type target: int\n",
    "        :rtype: int\n",
    "        \"\"\"\n",
    "        for i , num in enumerate(nums): #loops through all numbers in the list with their index\n",
    "            if num>=target: # if the current number is greater than or equal to the target, return its index\n",
    "                return i  # returns the index where the target should be inserted to maintain the sorted order that is the index of num which is the first number greater than or equal to target\n",
    "        return len(nums) # else return the length of the list which is the index where the target should be inserted to maintain the sorted order that is at the end of the list"
   ]
  },
  {
   "cell_type": "code",
   "execution_count": 35,
   "id": "e78b7c8e",
   "metadata": {},
   "outputs": [
    {
     "name": "stdout",
     "output_type": "stream",
     "text": [
      "2\n"
     ]
    }
   ],
   "source": [
    "sol=Solution()\n",
    "print(sol.searchInsert([1,3,5,6],5))"
   ]
  },
  {
   "cell_type": "code",
   "execution_count": 4,
   "id": "d6a62219",
   "metadata": {},
   "outputs": [],
   "source": [
    "class Solution(object):\n",
    "    def myAtoi(self, s):\n",
    "        \"\"\"\n",
    "        :type s: str\n",
    "        :rtype: int\n",
    "        \"\"\"\n",
    "       \n",
    "        s= s.strip() # to remove any whitespace in the begining\n",
    "        if not s :\n",
    "            return 0# for empty strings\n",
    "        i=0 # index\n",
    "        if s[i] in ['-', '+']:\n",
    "                sign = -1 if s[i] == '-' else 1\n",
    "                i+=1\n",
    "        num=0\n",
    "        while i<=len(s) and s[i].isdigit(): \n",
    "                    num=num* 10 + int(s[i]) # num*10+(integer form of the s[i])\n",
    "                    i+=1\n",
    "        num*= sign #return the sign\n",
    "        #constraints\n",
    "        INT_MIN, INT_MAX = -2**31, 2**31 - 1\n",
    "        if num< INT_MIN:\n",
    "            return INT_MIN\n",
    "        if num> INT_MAX:\n",
    "            return INT_MAX\n",
    "        return num"
   ]
  },
  {
   "cell_type": "code",
   "execution_count": 6,
   "id": "425f49fb",
   "metadata": {},
   "outputs": [
    {
     "name": "stdout",
     "output_type": "stream",
     "text": [
      "-456\n"
     ]
    },
    {
     "data": {
      "text/plain": [
       "'\\nstrips the whitespace infront  \"-456mn34\"\\nsign = -1\\ni=1\\ns[i] = 4\\nnum=0\\nnum=0*10+4=4\\ni=2 \\nnum=4\\ns[i]=5\\nnum=4*10+5\\nnum=45\\ni=3\\ns[i]=6\\nnum=45*10+6 = 456\\ni=4\\ns[i]= m\\nBut nothing happens again because \\'m\\' is not an integer\\nHence num= 456\\nnum*=sign \\n= 456*-1 =-456\\n'"
      ]
     },
     "execution_count": 6,
     "metadata": {},
     "output_type": "execute_result"
    }
   ],
   "source": [
    "sol=Solution()\n",
    "print(sol.myAtoi(\"   -456mn34\")) \n",
    "\"\"\"\n",
    "strips the whitespace infront  \"-456mn34\"\n",
    "sign = -1\n",
    "i=1\n",
    "s[i] = 4\n",
    "num=0\n",
    "num=0*10+4=4\n",
    "i=2 \n",
    "num=4\n",
    "s[i]=5\n",
    "num=4*10+5\n",
    "num=45\n",
    "i=3\n",
    "s[i]=6\n",
    "num=45*10+6 = 456\n",
    "i=4\n",
    "s[i]= m\n",
    "But nothing happens again because 'm' is not an integer\n",
    "Hence num= 456\n",
    "num*=sign \n",
    "= 456*-1 =-456\n",
    "\"\"\""
   ]
  },
  {
   "cell_type": "code",
   "execution_count": 5,
   "id": "189fd872",
   "metadata": {},
   "outputs": [
    {
     "name": "stdout",
     "output_type": "stream",
     "text": [
      "-4567788\n"
     ]
    }
   ],
   "source": [
    "print(sol.myAtoi(\"  -4567788\"))"
   ]
  }
 ],
 "metadata": {
  "kernelspec": {
   "display_name": ".venv (3.13.3)",
   "language": "python",
   "name": "python3"
  },
  "language_info": {
   "codemirror_mode": {
    "name": "ipython",
    "version": 3
   },
   "file_extension": ".py",
   "mimetype": "text/x-python",
   "name": "python",
   "nbconvert_exporter": "python",
   "pygments_lexer": "ipython3",
   "version": "3.13.3"
  }
 },
 "nbformat": 4,
 "nbformat_minor": 5
}
