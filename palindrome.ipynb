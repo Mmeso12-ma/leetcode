{
 "cells": [
  {
   "cell_type": "code",
   "execution_count": null,
   "id": "67cbb71a",
   "metadata": {},
   "outputs": [],
   "source": [
    "\"\"\"Determine whether an integer is a palindrome. An integer is a palindrome when it reads the same backward as forward.\"\"\"\n",
    "\"\"\"This solution is efficient as it only reverses half of the number and compares it with the other half, avoiding potential overflow issues.\"\"\"\n",
    "class Solution(object):\n",
    "    def isPalindrome(self, x):\n",
    "        \"\"\"\n",
    "        :type x: int\n",
    "        :rtype: bool\n",
    "        \"\"\"\n",
    "        if x<0 :\n",
    "            return False # for negative numbers\n",
    "        if x% 10 ==0 and x !=0:\n",
    "                return False #for numbers ending with 0 eg 10\n",
    "        rev = 0\n",
    "        while x> rev:\n",
    "            rev = rev*10+(x%10)\n",
    "            x //=10#drops the last digit\n",
    "        return x==rev or x== rev // 10    #  even or odd"
   ]
  }
 ],
 "metadata": {
  "language_info": {
   "name": "python"
  }
 },
 "nbformat": 4,
 "nbformat_minor": 5
}
